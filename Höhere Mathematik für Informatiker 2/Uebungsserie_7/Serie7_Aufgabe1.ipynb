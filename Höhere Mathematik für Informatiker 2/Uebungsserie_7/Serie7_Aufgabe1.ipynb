{
 "cells": [
  {
   "cell_type": "markdown",
   "metadata": {},
   "source": [
    "# Gauss-Newton-Verfahren (ohne / mit Dämpfung)\n",
    "\n",
    "#### Erstellt von F. De Lorenzi / R. Knaack, 30.03.2021 für die Vorlesung Höhere Mathematik 2 der ZHAW SoE\n",
    "\n",
    "In diesem Tutorial geht es um die Lösung der folgenden Aufgabe:\n",
    "\n",
    "Ein gedämpftes mechanisches System mit rückstellenden Kräften (z.B. ein gedämpftes Federpendel, siehe Abbildung) wird für eine Punktmasse $m$ durch die Differentialgleichung $$m\\ddot{x}+c\\dot{x}+kx=0$$ beschrieben ($c$ ist die Dämpfungskonstante, $k$ die Federkonstante der rückstellenden Kraft). Lösungen dieser DGL haben die Form $$x(t)=x_{0}\\textrm{e}^{-\\alpha t}\\sin(\\omega t+\\varphi_{0}),$$ wobei $x_{0}$ die Anfangsamplitude, $\\alpha$ die Abklingkonstante, $\\omega$ die Kreisfrequenz und $\\varphi_{0}$ den Nullphasenwinkel bezeichnet. Eine Messung ergibt nun die folgenden Werte\n",
    "\n",
    "\\begin{array}{c|cccccccccc|}\n",
    "  t \\,  [s] & 0.1 & 0.3 & 0.7 & 1.2 & 1.6 & 2.2 & 2.7 & 3.1 & 3.5 & 3.9 \\\\\\hline\n",
    "  x_i\\, [m] & 0.558 & 0.569 & 0.176 & -0.207 & -0.133 & 0.132 & 0.055 & -0.090 & -0.069 & 0.027 \\\\\n",
    "\\end{array}\n",
    "\n",
    "Arbeiten Sie diese Tutorial durch, welches Ihnen die folgenden Aufgaben einmal für das ungedämpfte Gauss-Newton und dann noch für das gedämpfte Verfahren löst. Füllen Sie die Lücken mit Ihrem eigenen Code, wo nötig.\n",
    "\n",
    "a) Berechnen Sie den ersten Schritt des (ungedämpften) Gauss-Newton Verfahrens für den Startwert $\\lambda^{(0)}=(1,2,2,1)^{T}$.\n",
    "\n",
    "b) Bestimmen Sie die 4 Parameter $x_{0},\\alpha,\\omega,\\varphi_{0}$ mit dem Gauss-Newton Verfahren (ohne Dämpfung) für den gleichen Startwert $\\lambda^{(0)}$ auf eine Genauigkeit von 1e-5. Plotten Sie die Messpunkte sowie Ihre Lösung für x(t) ins gleiche Grafikfenster.\n",
    "\n",
    "c) Lösen Sie die Aufgabe b) nochmals mit dem gedämpften Gauss-Newton Verfahren.\n",
    "\n",
    "d) Vergleichen Sie die Resultate aus b) und c) für einen anderen Startvektor $\\lambda^{(0)}=(2,2,2,2)^{T}$\n",
    "\n",
    "e) Probieren Sie die Python-Funktion scypy.optimize.fmin() (siehe [Online-Dokumentation](https://docs.scipy.org/doc/scipy/reference/generated/scipy.optimize.fmin.html), indem Sie damit direkt das Minimum des Fehlerfunktionals suchen, und vergleichen Sie mit Ihrer Lösung aus d).\n",
    "\n",
    "<img src=\"Mass_spring_damper.png\" width=300 height=300 />"
   ]
  },
  {
   "cell_type": "markdown",
   "metadata": {},
   "source": [
    "## Aufgabe a)\n",
    "Berechnen Sie den ersten Schritt des (ungedämpften) Gauss-Newton Verfahrens für den Startwert $\\lambda^{(0)}=(1,2,2,1)^{T}$."
   ]
  },
  {
   "cell_type": "code",
   "execution_count": 1,
   "metadata": {
    "ExecuteTime": {
     "end_time": "2024-04-08T13:57:34.180191Z",
     "start_time": "2024-04-08T13:57:33.549277Z"
    }
   },
   "outputs": [],
   "source": [
    "import sympy as sp\n",
    "import numpy as np\n",
    "import matplotlib.pyplot as plt"
   ]
  },
  {
   "cell_type": "code",
   "execution_count": 2,
   "metadata": {
    "ExecuteTime": {
     "end_time": "2024-04-08T13:57:34.412697Z",
     "start_time": "2024-04-08T13:57:34.402Z"
    }
   },
   "outputs": [],
   "source": [
    "sp.init_printing()"
   ]
  },
  {
   "cell_type": "markdown",
   "metadata": {},
   "source": [
    "- Eingabe der Daten. Achtung: die $t$-Werte der obigen Tabelle werden hier in $x$ unbenannt, die $x$-Werte der obigen Tabelle in $y$. Wie im Skript."
   ]
  },
  {
   "cell_type": "code",
   "execution_count": 3,
   "metadata": {
    "ExecuteTime": {
     "end_time": "2024-04-08T14:02:21.041503Z",
     "start_time": "2024-04-08T14:02:21.037858Z"
    }
   },
   "outputs": [],
   "source": [
    "x = np.array([0.1, 0.3, 0.7, 1.2, 1.6, 2.2, 2.7, 3.1, 3.5, 3.9], dtype=np.float64)\n",
    "y = np.array([0.558, 0.569, 0.176, -0.207, -0.133, 0.132, 0.055, -0.090, -0.069, 0.027], dtype=np.float64)"
   ]
  },
  {
   "cell_type": "markdown",
   "metadata": {},
   "source": [
    "- Definition des Anfansvektors $\\boldsymbol{\\lambda}^{(0)}=[1,2,2,1]$, der gewünschten Genauigkeit $tol$ und der symbolischen Variablen. Die symbolischen Variablen ensprechen den gesuchten Parametern $x_{0}$, $\\alpha$, $\\omega$ und $\\varphi_{0}$. Der Einfachheit halber nennen wir hier die Komponenten $p_i$ und schreiben sie in die Liste $p$, mit p[0]=$x_{0}$, p[1]=$\\alpha$, p[2]=$\\omega$ und p[3]=$\\varphi_{0}$. Achtung: der Einfachheit halber wird $\\boldsymbol{\\lambda}^{(0)}$ nicht als Spaltenvektor definiert."
   ]
  },
  {
   "cell_type": "code",
   "execution_count": 4,
   "metadata": {
    "ExecuteTime": {
     "end_time": "2024-04-08T14:04:13.409180Z",
     "start_time": "2024-04-08T14:04:13.259823Z"
    }
   },
   "outputs": [
    {
     "data": {
      "text/plain": "(p₀, p₁, p₂, p₃)",
      "image/png": "[encoded data removed]",
      "text/latex": "$\\displaystyle \\left( p_{0}, \\  p_{1}, \\  p_{2}, \\  p_{3}\\right)$"
     },
     "execution_count": 4,
     "metadata": {},
     "output_type": "execute_result"
    }
   ],
   "source": [
    "lam0 = np.array([1, 2, 2, 1],dtype=np.float64)\n",
    "tol = 1e-5\n",
    "\n",
    "p = sp.symbols('p0 p1 p2 p3')\n",
    "# oder eleganter: \n",
    "# p = sp.symbols('p:{n:d}'.format(n=lam.size))\n",
    "p"
   ]
  },
  {
   "cell_type": "markdown",
   "metadata": {},
   "source": [
    "- Definition der Ansatzfunktion $$\\boldsymbol{f(x)}:$$"
   ]
  },
  {
   "cell_type": "code",
   "execution_count": 5,
   "metadata": {
    "ExecuteTime": {
     "end_time": "2024-04-08T14:04:58.403901Z",
     "start_time": "2024-04-08T14:04:58.400641Z"
    }
   },
   "outputs": [],
   "source": [
    "def f(x,p):\n",
    "    return (p[0]*sp.exp(-p[1]*x)*sp.sin(p[2]*x+p[3]))"
   ]
  },
  {
   "cell_type": "markdown",
   "metadata": {},
   "source": [
    "- Definition der Funktion $$\\boldsymbol{g(x)=y-f(x)}:$$"
   ]
  },
  {
   "cell_type": "code",
   "execution_count": 6,
   "metadata": {
    "ExecuteTime": {
     "end_time": "2024-04-08T14:05:06.732064Z",
     "start_time": "2024-04-08T14:05:06.464759Z"
    }
   },
   "outputs": [
    {
     "data": {
      "text/plain": "⎡      -0.1⋅p₁                         ⎤\n⎢- p₀⋅ℯ       ⋅sin(0.1⋅p₂ + p₃) + 0.558⎥\n⎢                                      ⎥\n⎢      -0.3⋅p₁                         ⎥\n⎢- p₀⋅ℯ       ⋅sin(0.3⋅p₂ + p₃) + 0.569⎥\n⎢                                      ⎥\n⎢      -0.7⋅p₁                         ⎥\n⎢- p₀⋅ℯ       ⋅sin(0.7⋅p₂ + p₃) + 0.176⎥\n⎢                                      ⎥\n⎢      -1.2⋅p₁                         ⎥\n⎢- p₀⋅ℯ       ⋅sin(1.2⋅p₂ + p₃) - 0.207⎥\n⎢                                      ⎥\n⎢      -1.6⋅p₁                         ⎥\n⎢- p₀⋅ℯ       ⋅sin(1.6⋅p₂ + p₃) - 0.133⎥\n⎢                                      ⎥\n⎢      -2.2⋅p₁                         ⎥\n⎢- p₀⋅ℯ       ⋅sin(2.2⋅p₂ + p₃) + 0.132⎥\n⎢                                      ⎥\n⎢      -2.7⋅p₁                         ⎥\n⎢- p₀⋅ℯ       ⋅sin(2.7⋅p₂ + p₃) + 0.055⎥\n⎢                                      ⎥\n⎢      -3.1⋅p₁                         ⎥\n⎢- p₀⋅ℯ       ⋅sin(3.1⋅p₂ + p₃) - 0.09 ⎥\n⎢                                      ⎥\n⎢      -3.5⋅p₁                         ⎥\n⎢- p₀⋅ℯ       ⋅sin(3.5⋅p₂ + p₃) - 0.069⎥\n⎢                                      ⎥\n⎢      -3.9⋅p₁                         ⎥\n⎣- p₀⋅ℯ       ⋅sin(3.9⋅p₂ + p₃) + 0.027⎦",
      "text/latex": "$\\displaystyle \\left[\\begin{matrix}- p_{0} e^{- 0.1 p_{1}} \\sin{\\left(0.1 p_{2} + p_{3} \\right)} + 0.558\\\\- p_{0} e^{- 0.3 p_{1}} \\sin{\\left(0.3 p_{2} + p_{3} \\right)} + 0.569\\\\- p_{0} e^{- 0.7 p_{1}} \\sin{\\left(0.7 p_{2} + p_{3} \\right)} + 0.176\\\\- p_{0} e^{- 1.2 p_{1}} \\sin{\\left(1.2 p_{2} + p_{3} \\right)} - 0.207\\\\- p_{0} e^{- 1.6 p_{1}} \\sin{\\left(1.6 p_{2} + p_{3} \\right)} - 0.133\\\\- p_{0} e^{- 2.2 p_{1}} \\sin{\\left(2.2 p_{2} + p_{3} \\right)} + 0.132\\\\- p_{0} e^{- 2.7 p_{1}} \\sin{\\left(2.7 p_{2} + p_{3} \\right)} + 0.055\\\\- p_{0} e^{- 3.1 p_{1}} \\sin{\\left(3.1 p_{2} + p_{3} \\right)} - 0.09\\\\- p_{0} e^{- 3.5 p_{1}} \\sin{\\left(3.5 p_{2} + p_{3} \\right)} - 0.069\\\\- p_{0} e^{- 3.9 p_{1}} \\sin{\\left(3.9 p_{2} + p_{3} \\right)} + 0.027\\end{matrix}\\right]$"
     },
     "execution_count": 6,
     "metadata": {},
     "output_type": "execute_result"
    }
   ],
   "source": [
    "g = sp.Matrix([y[k]-f(x[k],p) for k in range(len(x))])\n",
    "g"
   ]
  },
  {
   "cell_type": "markdown",
   "metadata": {},
   "source": [
    "- Berechnung der Jacobi-Matrix $$\\boldsymbol{Dg(x)}:$$"
   ]
  },
  {
   "cell_type": "code",
   "execution_count": 7,
   "metadata": {
    "scrolled": true,
    "ExecuteTime": {
     "end_time": "2024-04-08T14:05:15.355373Z",
     "start_time": "2024-04-08T14:05:15.105196Z"
    }
   },
   "outputs": [
    {
     "data": {
      "text/plain": "⎡  -0.1⋅p₁                           -0.1⋅p₁                            -0.1⋅p\n⎢-ℯ       ⋅sin(0.1⋅p₂ + p₃)  0.1⋅p₀⋅ℯ       ⋅sin(0.1⋅p₂ + p₃)  -0.1⋅p₀⋅ℯ      \n⎢                                                                             \n⎢  -0.3⋅p₁                           -0.3⋅p₁                            -0.3⋅p\n⎢-ℯ       ⋅sin(0.3⋅p₂ + p₃)  0.3⋅p₀⋅ℯ       ⋅sin(0.3⋅p₂ + p₃)  -0.3⋅p₀⋅ℯ      \n⎢                                                                             \n⎢  -0.7⋅p₁                           -0.7⋅p₁                            -0.7⋅p\n⎢-ℯ       ⋅sin(0.7⋅p₂ + p₃)  0.7⋅p₀⋅ℯ       ⋅sin(0.7⋅p₂ + p₃)  -0.7⋅p₀⋅ℯ      \n⎢                                                                             \n⎢  -1.2⋅p₁                           -1.2⋅p₁                            -1.2⋅p\n⎢-ℯ       ⋅sin(1.2⋅p₂ + p₃)  1.2⋅p₀⋅ℯ       ⋅sin(1.2⋅p₂ + p₃)  -1.2⋅p₀⋅ℯ      \n⎢                                                                             \n⎢  -1.6⋅p₁                           -1.6⋅p₁                            -1.6⋅p\n⎢-ℯ       ⋅sin(1.6⋅p₂ + p₃)  1.6⋅p₀⋅ℯ       ⋅sin(1.6⋅p₂ + p₃)  -1.6⋅p₀⋅ℯ      \n⎢                                                                             \n⎢  -2.2⋅p₁                           -2.2⋅p₁                            -2.2⋅p\n⎢-ℯ       ⋅sin(2.2⋅p₂ + p₃)  2.2⋅p₀⋅ℯ       ⋅sin(2.2⋅p₂ + p₃)  -2.2⋅p₀⋅ℯ      \n⎢                                                                             \n⎢  -2.7⋅p₁                           -2.7⋅p₁                            -2.7⋅p\n⎢-ℯ       ⋅sin(2.7⋅p₂ + p₃)  2.7⋅p₀⋅ℯ       ⋅sin(2.7⋅p₂ + p₃)  -2.7⋅p₀⋅ℯ      \n⎢                                                                             \n⎢  -3.1⋅p₁                           -3.1⋅p₁                            -3.1⋅p\n⎢-ℯ       ⋅sin(3.1⋅p₂ + p₃)  3.1⋅p₀⋅ℯ       ⋅sin(3.1⋅p₂ + p₃)  -3.1⋅p₀⋅ℯ      \n⎢                                                                             \n⎢  -3.5⋅p₁                           -3.5⋅p₁                            -3.5⋅p\n⎢-ℯ       ⋅sin(3.5⋅p₂ + p₃)  3.5⋅p₀⋅ℯ       ⋅sin(3.5⋅p₂ + p₃)  -3.5⋅p₀⋅ℯ      \n⎢                                                                             \n⎢  -3.9⋅p₁                           -3.9⋅p₁                            -3.9⋅p\n⎣-ℯ       ⋅sin(3.9⋅p₂ + p₃)  3.9⋅p₀⋅ℯ       ⋅sin(3.9⋅p₂ + p₃)  -3.9⋅p₀⋅ℯ      \n\n₁                        -0.1⋅p₁                 ⎤\n ⋅cos(0.1⋅p₂ + p₃)  -p₀⋅ℯ       ⋅cos(0.1⋅p₂ + p₃)⎥\n                                                 ⎥\n₁                        -0.3⋅p₁                 ⎥\n ⋅cos(0.3⋅p₂ + p₃)  -p₀⋅ℯ       ⋅cos(0.3⋅p₂ + p₃)⎥\n                                                 ⎥\n₁                        -0.7⋅p₁                 ⎥\n ⋅cos(0.7⋅p₂ + p₃)  -p₀⋅ℯ       ⋅cos(0.7⋅p₂ + p₃)⎥\n                                                 ⎥\n₁                        -1.2⋅p₁                 ⎥\n ⋅cos(1.2⋅p₂ + p₃)  -p₀⋅ℯ       ⋅cos(1.2⋅p₂ + p₃)⎥\n                                                 ⎥\n₁                        -1.6⋅p₁                 ⎥\n ⋅cos(1.6⋅p₂ + p₃)  -p₀⋅ℯ       ⋅cos(1.6⋅p₂ + p₃)⎥\n                                                 ⎥\n₁                        -2.2⋅p₁                 ⎥\n ⋅cos(2.2⋅p₂ + p₃)  -p₀⋅ℯ       ⋅cos(2.2⋅p₂ + p₃)⎥\n                                                 ⎥\n₁                        -2.7⋅p₁                 ⎥\n ⋅cos(2.7⋅p₂ + p₃)  -p₀⋅ℯ       ⋅cos(2.7⋅p₂ + p₃)⎥\n                                                 ⎥\n₁                        -3.1⋅p₁                 ⎥\n ⋅cos(3.1⋅p₂ + p₃)  -p₀⋅ℯ       ⋅cos(3.1⋅p₂ + p₃)⎥\n                                                 ⎥\n₁                        -3.5⋅p₁                 ⎥\n ⋅cos(3.5⋅p₂ + p₃)  -p₀⋅ℯ       ⋅cos(3.5⋅p₂ + p₃)⎥\n                                                 ⎥\n₁                        -3.9⋅p₁                 ⎥\n ⋅cos(3.9⋅p₂ + p₃)  -p₀⋅ℯ       ⋅cos(3.9⋅p₂ + p₃)⎦",
      "text/latex": "$\\displaystyle \\left[\\begin{matrix}- e^{- 0.1 p_{1}} \\sin{\\left(0.1 p_{2} + p_{3} \\right)} & 0.1 p_{0} e^{- 0.1 p_{1}} \\sin{\\left(0.1 p_{2} + p_{3} \\right)} & - 0.1 p_{0} e^{- 0.1 p_{1}} \\cos{\\left(0.1 p_{2} + p_{3} \\right)} & - p_{0} e^{- 0.1 p_{1}} \\cos{\\left(0.1 p_{2} + p_{3} \\right)}\\\\- e^{- 0.3 p_{1}} \\sin{\\left(0.3 p_{2} + p_{3} \\right)} & 0.3 p_{0} e^{- 0.3 p_{1}} \\sin{\\left(0.3 p_{2} + p_{3} \\right)} & - 0.3 p_{0} e^{- 0.3 p_{1}} \\cos{\\left(0.3 p_{2} + p_{3} \\right)} & - p_{0} e^{- 0.3 p_{1}} \\cos{\\left(0.3 p_{2} + p_{3} \\right)}\\\\- e^{- 0.7 p_{1}} \\sin{\\left(0.7 p_{2} + p_{3} \\right)} & 0.7 p_{0} e^{- 0.7 p_{1}} \\sin{\\left(0.7 p_{2} + p_{3} \\right)} & - 0.7 p_{0} e^{- 0.7 p_{1}} \\cos{\\left(0.7 p_{2} + p_{3} \\right)} & - p_{0} e^{- 0.7 p_{1}} \\cos{\\left(0.7 p_{2} + p_{3} \\right)}\\\\- e^{- 1.2 p_{1}} \\sin{\\left(1.2 p_{2} + p_{3} \\right)} & 1.2 p_{0} e^{- 1.2 p_{1}} \\sin{\\left(1.2 p_{2} + p_{3} \\right)} & - 1.2 p_{0} e^{- 1.2 p_{1}} \\cos{\\left(1.2 p_{2} + p_{3} \\right)} & - p_{0} e^{- 1.2 p_{1}} \\cos{\\left(1.2 p_{2} + p_{3} \\right)}\\\\- e^{- 1.6 p_{1}} \\sin{\\left(1.6 p_{2} + p_{3} \\right)} & 1.6 p_{0} e^{- 1.6 p_{1}} \\sin{\\left(1.6 p_{2} + p_{3} \\right)} & - 1.6 p_{0} e^{- 1.6 p_{1}} \\cos{\\left(1.6 p_{2} + p_{3} \\right)} & - p_{0} e^{- 1.6 p_{1}} \\cos{\\left(1.6 p_{2} + p_{3} \\right)}\\\\- e^{- 2.2 p_{1}} \\sin{\\left(2.2 p_{2} + p_{3} \\right)} & 2.2 p_{0} e^{- 2.2 p_{1}} \\sin{\\left(2.2 p_{2} + p_{3} \\right)} & - 2.2 p_{0} e^{- 2.2 p_{1}} \\cos{\\left(2.2 p_{2} + p_{3} \\right)} & - p_{0} e^{- 2.2 p_{1}} \\cos{\\left(2.2 p_{2} + p_{3} \\right)}\\\\- e^{- 2.7 p_{1}} \\sin{\\left(2.7 p_{2} + p_{3} \\right)} & 2.7 p_{0} e^{- 2.7 p_{1}} \\sin{\\left(2.7 p_{2} + p_{3} \\right)} & - 2.7 p_{0} e^{- 2.7 p_{1}} \\cos{\\left(2.7 p_{2} + p_{3} \\right)} & - p_{0} e^{- 2.7 p_{1}} \\cos{\\left(2.7 p_{2} + p_{3} \\right)}\\\\- e^{- 3.1 p_{1}} \\sin{\\left(3.1 p_{2} + p_{3} \\right)} & 3.1 p_{0} e^{- 3.1 p_{1}} \\sin{\\left(3.1 p_{2} + p_{3} \\right)} & - 3.1 p_{0} e^{- 3.1 p_{1}} \\cos{\\left(3.1 p_{2} + p_{3} \\right)} & - p_{0} e^{- 3.1 p_{1}} \\cos{\\left(3.1 p_{2} + p_{3} \\right)}\\\\- e^{- 3.5 p_{1}} \\sin{\\left(3.5 p_{2} + p_{3} \\right)} & 3.5 p_{0} e^{- 3.5 p_{1}} \\sin{\\left(3.5 p_{2} + p_{3} \\right)} & - 3.5 p_{0} e^{- 3.5 p_{1}} \\cos{\\left(3.5 p_{2} + p_{3} \\right)} & - p_{0} e^{- 3.5 p_{1}} \\cos{\\left(3.5 p_{2} + p_{3} \\right)}\\\\- e^{- 3.9 p_{1}} \\sin{\\left(3.9 p_{2} + p_{3} \\right)} & 3.9 p_{0} e^{- 3.9 p_{1}} \\sin{\\left(3.9 p_{2} + p_{3} \\right)} & - 3.9 p_{0} e^{- 3.9 p_{1}} \\cos{\\left(3.9 p_{2} + p_{3} \\right)} & - p_{0} e^{- 3.9 p_{1}} \\cos{\\left(3.9 p_{2} + p_{3} \\right)}\\end{matrix}\\right]$"
     },
     "execution_count": 7,
     "metadata": {},
     "output_type": "execute_result"
    }
   ],
   "source": [
    "Dg = g.jacobian(p)\n",
    "Dg"
   ]
  },
  {
   "cell_type": "markdown",
   "metadata": {},
   "source": [
    "- Umwandeln der symbolischen Grössen g und Dg in numerische Funktionen, die als Input einen Array akzeptieren. Achtung: der Input-Array $lam$ ist hier kein Spaltenvektor, der Output-Array $g(lam)$ aber schon. "
   ]
  },
  {
   "cell_type": "code",
   "execution_count": 8,
   "metadata": {
    "ExecuteTime": {
     "end_time": "2024-04-08T14:05:21.831828Z",
     "start_time": "2024-04-08T14:05:21.755006Z"
    }
   },
   "outputs": [],
   "source": [
    "g = sp.lambdify([p], g, 'numpy')\n",
    "Dg = sp.lambdify([p], Dg, 'numpy')"
   ]
  },
  {
   "cell_type": "code",
   "execution_count": 9,
   "metadata": {
    "ExecuteTime": {
     "end_time": "2024-04-08T14:05:24.548563Z",
     "start_time": "2024-04-08T14:05:24.543462Z"
    }
   },
   "outputs": [
    {
     "data": {
      "text/plain": "array([[-0.20508906],\n       [ 0.02042238],\n       [ 0.00943283],\n       [-0.18381783],\n       [-0.09747265],\n       [ 0.14148749],\n       [ 0.0544736 ],\n       [-0.09161069],\n       [-0.06990218],\n       [ 0.02676034]])"
     },
     "execution_count": 9,
     "metadata": {},
     "output_type": "execute_result"
    }
   ],
   "source": [
    "g(lam0)"
   ]
  },
  {
   "cell_type": "code",
   "execution_count": 10,
   "metadata": {},
   "outputs": [
    {
     "data": {
      "text/plain": [
       "array([[-7.63089063e-01,  7.63089063e-02, -2.96673437e-02,\n",
       "        -2.96673437e-01],\n",
       "       [-5.48577624e-01,  1.64573287e-01,  4.80751128e-03,\n",
       "         1.60250376e-02],\n",
       "       [-1.66567170e-01,  1.16597019e-01,  1.27287336e-01,\n",
       "         1.81839051e-01],\n",
       "       [ 2.31821658e-02, -2.78185989e-02,  1.05247144e-01,\n",
       "         8.77059533e-02],\n",
       "       [ 3.55273494e-02, -5.68437591e-02,  3.19745786e-02,\n",
       "         1.99841116e-02],\n",
       "       [ 9.48749228e-03, -2.08724830e-02, -1.71431484e-02,\n",
       "        -7.79234017e-03],\n",
       "       [-5.26403918e-04,  1.42129058e-03, -1.21116602e-02,\n",
       "        -4.48580008e-03],\n",
       "       [-1.61069388e-03,  4.99315102e-03, -3.82728107e-03,\n",
       "        -1.23460680e-03],\n",
       "       [-9.02177943e-04,  3.15762280e-03,  4.64375999e-04,\n",
       "         1.32678857e-04],\n",
       "       [-2.39661034e-04,  9.34678032e-04,  1.29609940e-03,\n",
       "         3.32333179e-04]])"
      ]
     },
     "execution_count": 10,
     "metadata": {},
     "output_type": "execute_result"
    }
   ],
   "source": [
    "Dg(lam0)"
   ]
  },
  {
   "cell_type": "markdown",
   "metadata": {},
   "source": [
    "- Jetzt können wir den ersten Iterationsschritt berechnen, indem wir das lineare Gleichungssystem $$ \\textrm{ }\\boldsymbol{Dg}(\\boldsymbol{\\lambda}^{(k)})^{T}\\boldsymbol{Dg}(\\boldsymbol{\\lambda}^{(k)})\\boldsymbol{\\delta}^{(k)}=-\\boldsymbol{Dg}(\\boldsymbol{\\lambda}^{(k)})^{T}\\cdot\\boldsymbol{g}(\\boldsymbol{\\lambda}^{(k)}) $$ für $k=0$ nach $\\boldsymbol{\\delta}^{(0)}$ auflösen.\n"
   ]
  },
  {
   "cell_type": "markdown",
   "metadata": {},
   "source": [
    "- Dafür benutzen wir aber besser die QR-Zerlegung von $\\boldsymbol{Dg}(\\boldsymbol{\\lambda}^{(0)})$, also\n",
    "$$ \\boldsymbol{Dg}(\\boldsymbol{\\lambda}^{(0)})=\\boldsymbol{Q}^{(0)}\\boldsymbol{R}^{(0)} $$ und lösen wegen der besseren Konditionierung das äquivalente Gleichungssystem\n",
    "$$\\boldsymbol{R}^{(0)}\\boldsymbol{\\delta}^{(0)}=-\\boldsymbol{Q}^{(0)\\,T}\\boldsymbol{g}(\\boldsymbol{\\lambda}^{(0)}). $$"
   ]
  },
  {
   "cell_type": "code",
   "execution_count": 10,
   "metadata": {
    "ExecuteTime": {
     "end_time": "2024-04-08T14:10:20.733243Z",
     "start_time": "2024-04-08T14:10:20.692599Z"
    }
   },
   "outputs": [
    {
     "data": {
      "text/plain": "array([-0.04488169, -0.48639439,  2.12751857, -0.97041387])"
     },
     "execution_count": 10,
     "metadata": {},
     "output_type": "execute_result"
    }
   ],
   "source": [
    "k=0\n",
    "lam=np.copy(lam0)\n",
    "[Q,R] = np.linalg.qr(Dg(lam))\n",
    "delta = np.linalg.solve(R,-Q.T @ g(lam)).flatten()  # Achtung: flatten() braucht es, um aus dem Spaltenvektor delta wieder eine Liste zu machen, da g hier nicht mit Spaltenvektoren als Input umgehen kann\n",
    "delta "
   ]
  },
  {
   "cell_type": "markdown",
   "metadata": {},
   "source": [
    "- Damit können wir jetzt den ersten Schritt $\\boldsymbol{\\lambda}^{(1)}$ berechnen:\n",
    "$$\\boldsymbol{\\lambda}^{(1)} = \\boldsymbol{\\lambda}^{(0)}+\\boldsymbol{\\delta}^{(0)}$$"
   ]
  },
  {
   "cell_type": "code",
   "execution_count": 11,
   "metadata": {
    "ExecuteTime": {
     "end_time": "2024-04-08T14:10:56.807394Z",
     "start_time": "2024-04-08T14:10:56.801779Z"
    }
   },
   "outputs": [
    {
     "data": {
      "text/plain": "array([0.95511831, 1.51360561, 4.12751857, 0.02958613])"
     },
     "execution_count": 11,
     "metadata": {},
     "output_type": "execute_result"
    }
   ],
   "source": [
    "lam = lam+delta\n",
    "lam"
   ]
  },
  {
   "cell_type": "markdown",
   "metadata": {},
   "source": [
    "- Wie gut ist dieser Fit bereits? Wir können einerseits die Länge des \"Inkrements\" $\\boldsymbol{\\delta}^{(0)}$ berechnen und wenn dieses kleiner wird als eine vorgegebene Schwelle (z.B. tol = 1e-5) die Iteration abbrechen:\n",
    "$$ \\parallel\\boldsymbol{\\delta}^{(k)}\\parallel_{2}<TOL$$\n",
    "- Zusätzlich interessiert uns das Fehlerfunktional, welches im Idealfall ja mit jeder Iteration kleiner werden sollte:\n",
    "$$ E(\\boldsymbol{\\lambda}^{(1)})=\\parallel\\boldsymbol{g}(\\boldsymbol{\\lambda}^{(1)})\\parallel_{2}^{2}<\\parallel\\boldsymbol{g}(\\boldsymbol{\\lambda}^{(0)})\\parallel_{2}^{2}=E(\\boldsymbol{\\lambda}^{(0)}).$$"
   ]
  },
  {
   "cell_type": "code",
   "execution_count": 12,
   "metadata": {
    "ExecuteTime": {
     "end_time": "2024-04-08T14:13:15.572696Z",
     "start_time": "2024-04-08T14:13:15.549665Z"
    }
   },
   "outputs": [
    {
     "data": {
      "text/plain": "2.3888558358777257",
      "image/png": "[encoded data removed]",
      "text/latex": "$\\displaystyle 2.38885583587773$"
     },
     "execution_count": 12,
     "metadata": {},
     "output_type": "execute_result"
    }
   ],
   "source": [
    "# Inkrement\n",
    "increment = np.linalg.norm(delta)\n",
    "increment\n"
   ]
  },
  {
   "cell_type": "code",
   "execution_count": 13,
   "metadata": {
    "ExecuteTime": {
     "end_time": "2024-04-08T14:13:44.901732Z",
     "start_time": "2024-04-08T14:13:44.877013Z"
    }
   },
   "outputs": [
    {
     "data": {
      "text/plain": "0.12283852176633624",
      "image/png": "[encoded data removed]",
      "text/latex": "$\\displaystyle 0.122838521766336$"
     },
     "execution_count": 13,
     "metadata": {},
     "output_type": "execute_result"
    }
   ],
   "source": [
    "# Fehlerfunktional des Startvektors lam0\n",
    "err_func0 = np.linalg.norm(g(lam0))**2\n",
    "err_func0"
   ]
  },
  {
   "cell_type": "code",
   "execution_count": 14,
   "metadata": {
    "ExecuteTime": {
     "end_time": "2024-04-08T14:14:30.907565Z",
     "start_time": "2024-04-08T14:14:30.883630Z"
    }
   },
   "outputs": [
    {
     "data": {
      "text/plain": "0.11737176539512977",
      "image/png": "[encoded data removed]",
      "text/latex": "$\\displaystyle 0.11737176539513$"
     },
     "execution_count": 14,
     "metadata": {},
     "output_type": "execute_result"
    }
   ],
   "source": [
    "# Fehlerfunktional nach der ersten Iteration\n",
    "err_func = np.linalg.norm(g(lam))**2\n",
    "err_func"
   ]
  },
  {
   "cell_type": "markdown",
   "metadata": {},
   "source": [
    "## Aufgabe b)\n",
    "Bestimmen Sie die 4 Parameter $x_{0},\\alpha,\\omega,\\varphi_{0}$ mit dem Gauss-Newton Verfahren (ohne Dämpfung) für den gleichen Startwert $\\lambda^{(0)}$ auf eine Genauigkeit von 1e-5. Plotten Sie die Messpunkte sowie Ihre Lösung für x(t) ins gleiche Grafikfenster."
   ]
  },
  {
   "cell_type": "markdown",
   "metadata": {},
   "source": [
    "- Den ersten Schritt für das ungedämpfte Gauss-Newton Verfahren haben Sie bereits gemacht. Können Sie dieses jetzt für alle weiteren Schritte implementieren? Vervollständigen Sie die untenstehende Funktion überall dort, wo ... auftritt!"
   ]
  },
  {
   "cell_type": "markdown",
   "metadata": {},
   "source": [
    "- Gauss-Newton-Verfahren mit QR-Zerlegung, aber noch ohne Dämpfung. Die Inputvariablen sind:\n",
    "    - g: die Funktion g von oben\n",
    "    - Dg: die Jacobi-Matrix\n",
    "    - lam0: der Startvektor für die Parameter\n",
    "    - tol: die Fehlerschranke\n",
    "    - max_iter: die max. Anzahl Iterationen, die durchgeführt werden sollen\n",
    "\n",
    "\n"
   ]
  },
  {
   "cell_type": "code",
   "execution_count": 15,
   "metadata": {
    "ExecuteTime": {
     "end_time": "2024-04-08T14:42:18.649567Z",
     "start_time": "2024-04-08T14:42:18.642603Z"
    }
   },
   "outputs": [],
   "source": [
    "def gauss_newton(g, Dg, lam0, tol, max_iter):\n",
    "    k=0\n",
    "    lam=np.copy(lam0)\n",
    "    increment = tol+1\n",
    "    err_func = np.linalg.norm(g(lam))**2\n",
    "    \n",
    "    while k < max_iter and increment > tol : #Hier kommt Ihre Abbruchbedingung, die tol und max_iter berücksichtigen muss# \n",
    "\n",
    "        # QR-Zerlegung von Dg(lam) und delta als Lösung des lin. Gleichungssystems\n",
    "        [Q,R] = np.linalg.qr(Dg(lam))\n",
    "        delta = np.linalg.solve(R,-Q.T@g(lam)).flatten()                                          # Achtung: flatten() braucht es, um aus dem Spaltenvektor delta wieder\n",
    "                                                             # eine \"flachen\" Vektor zu machen, da g hier nicht mit Spaltenvektoren als Input umgehen kann           \n",
    "            \n",
    "        # Update des Vektors Lambda        \n",
    "        lam = lam + delta\n",
    "        err_func = np.linalg.norm(g(lam)) ** 2\n",
    "        increment = np.linalg.norm(delta)\n",
    "        k = k+1\n",
    "        print('Iteration: ',k)\n",
    "        print('lambda = ',lam)\n",
    "        print('Inkrement = ',increment)\n",
    "        print('Fehlerfunktional =', err_func)\n",
    "    return(lam,k)"
   ]
  },
  {
   "cell_type": "code",
   "execution_count": 16,
   "metadata": {
    "ExecuteTime": {
     "end_time": "2024-04-08T14:42:21.748710Z",
     "start_time": "2024-04-08T14:42:21.739172Z"
    }
   },
   "outputs": [
    {
     "name": "stdout",
     "output_type": "stream",
     "text": [
      "Iteration:  1\n",
      "lambda =  [0.95511831 1.51360561 4.12751857 0.02958613]\n",
      "Inkrement =  2.3888558358777257\n",
      "Fehlerfunktional = 0.11737176539512977\n",
      "Iteration:  2\n",
      "lambda =  [0.94903131 1.64246017 2.83165009 0.46474995]\n",
      "Inkrement =  1.3730561571200173\n",
      "Fehlerfunktional = 0.04958197184289552\n",
      "Iteration:  3\n",
      "lambda =  [0.61135825 0.59382995 3.22167066 0.65774938]\n",
      "Inkrement =  1.1844886038259845\n",
      "Fehlerfunktional = 0.02906716546490773\n",
      "Iteration:  4\n",
      "lambda =  [0.71657742 0.76871341 3.11046664 0.59709701]\n",
      "Inkrement =  0.24020895685101218\n",
      "Fehlerfunktional = 0.00849010121071578\n",
      "Iteration:  5\n",
      "lambda =  [0.73134923 0.78731385 3.068876   0.61048515]\n",
      "Inkrement =  0.049731339749952704\n",
      "Fehlerfunktional = 0.007941206414104202\n",
      "Iteration:  6\n",
      "lambda =  [0.73563357 0.79604644 3.07729169 0.60237064]\n",
      "Inkrement =  0.015207984110189754\n",
      "Fehlerfunktional = 0.00792841341866262\n",
      "Iteration:  7\n",
      "lambda =  [0.73506742 0.79565404 3.07370202 0.60483408]\n",
      "Inkrement =  0.004407811277889156\n",
      "Fehlerfunktional = 0.00792741435413575\n",
      "Iteration:  8\n",
      "lambda =  [0.73542163 0.79628134 3.07480798 0.60396093]\n",
      "Inkrement =  0.0015825633772707248\n",
      "Fehlerfunktional = 0.007927311565677416\n",
      "Iteration:  9\n",
      "lambda =  [0.73532681 0.79615349 3.07439763 0.60425917]\n",
      "Inkrement =  0.00053167590912837\n",
      "Fehlerfunktional = 0.007927299720964611\n",
      "Iteration:  10\n",
      "lambda =  [0.73536505 0.79621477 3.07453578 0.60415436]\n",
      "Inkrement =  0.0001878578721674575\n",
      "Fehlerfunktional = 0.00792729830387239\n",
      "Iteration:  11\n",
      "lambda =  [0.73535269 0.79619653 3.07448678 0.60419067]\n",
      "Inkrement =  6.48367332487991e-05\n",
      "Fehlerfunktional = 0.007927298132718627\n",
      "Iteration:  12\n",
      "lambda =  [0.73535717 0.79620346 3.07450368 0.60417799]\n",
      "Inkrement =  2.268152771562658e-05\n",
      "Fehlerfunktional = 0.007927298111981815\n",
      "Iteration:  13\n",
      "lambda =  [0.73535565 0.79620116 3.07449777 0.60418239]\n",
      "Inkrement =  7.879527940710572e-06\n",
      "Fehlerfunktional = 0.007927298109467556\n"
     ]
    }
   ],
   "source": [
    "tol = 1e-5\n",
    "max_iter = 30\n",
    "[lam_without,n] = gauss_newton(g, Dg, lam0, tol, max_iter)\n"
   ]
  },
  {
   "cell_type": "markdown",
   "metadata": {},
   "source": [
    "- Graphische Darstellung"
   ]
  },
  {
   "cell_type": "code",
   "execution_count": 17,
   "metadata": {
    "ExecuteTime": {
     "end_time": "2024-04-08T14:44:02.898175Z",
     "start_time": "2024-04-08T14:44:02.830154Z"
    }
   },
   "outputs": [
    {
     "data": {
      "text/plain": "                   -0.796201157073585⋅t                                       \n0.735355646789953⋅ℯ                    ⋅sin(3.07449776736169⋅t + 0.60418239485\n\n     \n6142)",
      "image/png": "[encoded data removed]",
      "text/latex": "$\\displaystyle 0.735355646789953 e^{- 0.796201157073585 t} \\sin{\\left(3.07449776736169 t + 0.604182394856142 \\right)}$"
     },
     "execution_count": 17,
     "metadata": {},
     "output_type": "execute_result"
    }
   ],
   "source": [
    "t = sp.symbols('t')\n",
    "F = f(t,lam_without)\n",
    "F\n"
   ]
  },
  {
   "cell_type": "code",
   "execution_count": 18,
   "metadata": {
    "ExecuteTime": {
     "end_time": "2024-04-08T14:44:16.265416Z",
     "start_time": "2024-04-08T14:44:16.258635Z"
    }
   },
   "outputs": [],
   "source": [
    "F = sp.lambdify([t],F,'numpy')\n",
    "t = np.linspace(x.min(),x.max())"
   ]
  },
  {
   "cell_type": "code",
   "execution_count": 19,
   "metadata": {
    "scrolled": true,
    "ExecuteTime": {
     "end_time": "2024-04-08T14:44:18.946308Z",
     "start_time": "2024-04-08T14:44:18.801723Z"
    }
   },
   "outputs": [
    {
     "data": {
      "text/plain": "<Figure size 640x480 with 1 Axes>",
      "image/png": "[encoded data removed]"
     },
     "metadata": {},
     "output_type": "display_data"
    }
   ],
   "source": [
    "plt.plot(x,y,'o')\n",
    "plt.plot(t,F(t))\n",
    "plt.xlabel('x')\n",
    "plt.ylabel('y')\n",
    "plt.show()\n"
   ]
  },
  {
   "cell_type": "markdown",
   "metadata": {},
   "source": [
    "### Aufgabe c)\n",
    "Lösen Sie die Aufgabe b) nochmals mit dem gedämpften Gauss-Newton Verfahren."
   ]
  },
  {
   "cell_type": "markdown",
   "metadata": {},
   "source": [
    "- Gauss-Newton-Verfahren mit QR-Zerlegung, diesmal mit Dämpfung. Die Inputvariablen sind:\n",
    "    - g: die Funktion g von oben\n",
    "    - Dg: die Jacobi-Matrix\n",
    "    - lam0: der Startvektor für die Parameter\n",
    "    - tol: die Fehlerschranke\n",
    "    - max_iter: die max. Anzahl Iterationen, die durchgeführt werden sollen\n",
    "    - pmax: obere Grenze für p der Dämpfung (sieh Skript)\n",
    "    - damping: True, sofern das gedämpfte Verfahren angewendet werden soll (False, für das ungedämpfte Verfahren) \n",
    "- Füllen Sie den fehlenen Code für die Dämpfung noch aus.\n",
    "\n"
   ]
  },
  {
   "cell_type": "code",
   "execution_count": 30,
   "metadata": {
    "ExecuteTime": {
     "end_time": "2024-04-08T15:05:10.431804Z",
     "start_time": "2024-04-08T15:05:10.416267Z"
    }
   },
   "outputs": [],
   "source": [
    "def gauss_newton_d(g, Dg, lam0, tol, max_iter, pmax, damping):\n",
    "    k=0\n",
    "    lam=np.copy(lam0)\n",
    "    increment = tol+1\n",
    "    err_func = np.linalg.norm(g(lam))**2\n",
    "    \n",
    "    while k < max_iter and increment > tol:\n",
    "        # QR-Zerlegung von Dg(lam)\n",
    "        [Q,R] = np.linalg.qr(Dg(lam))\n",
    "        delta = np.linalg.solve(R,-Q.T@g(lam)).flatten()                                                  # Achtung: flatten() braucht es, um aus dem Spaltenvektor delta wieder\n",
    "                                                                     # eine \"flachen\" Vektor zu machen, da g hier nicht mit Spaltenvektoren als Input umgehen kann           \n",
    "        # hier kommt die Däfmpfung, falls damping = 1\n",
    "        p=0\n",
    "        \n",
    "        while damping == 1 and p < pmax and np.linalg.norm(g(lam + delta / (2 ** p))) ** 2 >= err_func:\n",
    "            p += 1\n",
    "\n",
    "            \n",
    "               \n",
    "        # Update des Vektors Lambda        \n",
    "        lam = lam + delta / (2**p)\n",
    "        err_func = np.linalg.norm(g(lam)) ** 2\n",
    "        increment = np.linalg.norm(delta)\n",
    "        k = k+1\n",
    "        print('Iteration: ',k)\n",
    "        print('lambda = ',lam)\n",
    "        print('Inkrement = ',increment)\n",
    "        print('Fehlerfunktional =', err_func)\n",
    "    return(lam,k)"
   ]
  },
  {
   "cell_type": "code",
   "execution_count": 31,
   "metadata": {
    "ExecuteTime": {
     "end_time": "2024-04-08T15:05:14.160769Z",
     "start_time": "2024-04-08T15:05:14.148300Z"
    }
   },
   "outputs": [
    {
     "name": "stdout",
     "output_type": "stream",
     "text": [
      "Iteration:  1\n",
      "lambda =  [0.95511831 1.51360561 4.12751857 0.02958613]\n",
      "Inkrement =  2.3888558358777257\n",
      "Fehlerfunktional = 0.11737176539512977\n",
      "Iteration:  2\n",
      "lambda =  [0.94903131 1.64246017 2.83165009 0.46474995]\n",
      "Inkrement =  1.3730561571200173\n",
      "Fehlerfunktional = 0.04958197184289552\n",
      "Iteration:  3\n",
      "lambda =  [0.61135825 0.59382995 3.22167066 0.65774938]\n",
      "Inkrement =  1.1844886038259845\n",
      "Fehlerfunktional = 0.02906716546490773\n",
      "Iteration:  4\n",
      "lambda =  [0.71657742 0.76871341 3.11046664 0.59709701]\n",
      "Inkrement =  0.24020895685101218\n",
      "Fehlerfunktional = 0.00849010121071578\n",
      "Iteration:  5\n",
      "lambda =  [0.73134923 0.78731385 3.068876   0.61048515]\n",
      "Inkrement =  0.049731339749952704\n",
      "Fehlerfunktional = 0.007941206414104202\n",
      "Iteration:  6\n",
      "lambda =  [0.73563357 0.79604644 3.07729169 0.60237064]\n",
      "Inkrement =  0.015207984110189754\n",
      "Fehlerfunktional = 0.00792841341866262\n",
      "Iteration:  7\n",
      "lambda =  [0.73506742 0.79565404 3.07370202 0.60483408]\n",
      "Inkrement =  0.004407811277889156\n",
      "Fehlerfunktional = 0.00792741435413575\n",
      "Iteration:  8\n",
      "lambda =  [0.73542163 0.79628134 3.07480798 0.60396093]\n",
      "Inkrement =  0.0015825633772707248\n",
      "Fehlerfunktional = 0.007927311565677416\n",
      "Iteration:  9\n",
      "lambda =  [0.73532681 0.79615349 3.07439763 0.60425917]\n",
      "Inkrement =  0.00053167590912837\n",
      "Fehlerfunktional = 0.007927299720964611\n",
      "Iteration:  10\n",
      "lambda =  [0.73536505 0.79621477 3.07453578 0.60415436]\n",
      "Inkrement =  0.0001878578721674575\n",
      "Fehlerfunktional = 0.00792729830387239\n",
      "Iteration:  11\n",
      "lambda =  [0.73535269 0.79619653 3.07448678 0.60419067]\n",
      "Inkrement =  6.48367332487991e-05\n",
      "Fehlerfunktional = 0.007927298132718627\n",
      "Iteration:  12\n",
      "lambda =  [0.73535717 0.79620346 3.07450368 0.60417799]\n",
      "Inkrement =  2.268152771562658e-05\n",
      "Fehlerfunktional = 0.007927298111981815\n",
      "Iteration:  13\n",
      "lambda =  [0.73535565 0.79620116 3.07449777 0.60418239]\n",
      "Inkrement =  7.879527940710572e-06\n",
      "Fehlerfunktional = 0.007927298109467556\n"
     ]
    }
   ],
   "source": [
    "tol = 1e-5\n",
    "max_iter = 30\n",
    "pmax = 5\n",
    "damping = 1\n",
    "[lam_with,n] = gauss_newton_d(g, Dg, lam0, tol, max_iter, pmax, damping)\n"
   ]
  },
  {
   "cell_type": "markdown",
   "metadata": {},
   "source": [
    "Tatsächlich wirkt sich die Dämpfung bei diesem Startvektor nicht aus. "
   ]
  },
  {
   "cell_type": "markdown",
   "metadata": {},
   "source": [
    "- Graphische Darstellung"
   ]
  },
  {
   "cell_type": "code",
   "execution_count": 32,
   "metadata": {
    "scrolled": true,
    "ExecuteTime": {
     "end_time": "2024-04-08T15:05:17.098032Z",
     "start_time": "2024-04-08T15:05:17.028828Z"
    }
   },
   "outputs": [
    {
     "data": {
      "text/plain": "                   -0.796201157073585⋅t                                       \n0.735355646789953⋅ℯ                    ⋅sin(3.07449776736169⋅t + 0.60418239485\n\n     \n6142)",
      "image/png": "[encoded data removed]",
      "text/latex": "$\\displaystyle 0.735355646789953 e^{- 0.796201157073585 t} \\sin{\\left(3.07449776736169 t + 0.604182394856142 \\right)}$"
     },
     "execution_count": 32,
     "metadata": {},
     "output_type": "execute_result"
    }
   ],
   "source": [
    "t = sp.symbols('t')\n",
    "F = f(t,lam_with)\n",
    "F\n"
   ]
  },
  {
   "cell_type": "code",
   "execution_count": 33,
   "metadata": {
    "ExecuteTime": {
     "end_time": "2024-04-08T15:05:18.484069Z",
     "start_time": "2024-04-08T15:05:18.477096Z"
    }
   },
   "outputs": [],
   "source": [
    "F = sp.lambdify([t],F,'numpy')\n",
    "t = np.linspace(x.min(),x.max())"
   ]
  },
  {
   "cell_type": "code",
   "execution_count": 34,
   "metadata": {
    "scrolled": true,
    "ExecuteTime": {
     "end_time": "2024-04-08T15:05:19.808343Z",
     "start_time": "2024-04-08T15:05:19.676319Z"
    }
   },
   "outputs": [
    {
     "data": {
      "text/plain": "<Figure size 640x480 with 1 Axes>",
      "image/png": "[encoded data removed]"
     },
     "metadata": {},
     "output_type": "display_data"
    }
   ],
   "source": [
    "plt.plot(x,y,'o')\n",
    "plt.plot(t,F(t))\n",
    "plt.xlabel('x')\n",
    "plt.ylabel('y')\n",
    "plt.show()"
   ]
  },
  {
   "cell_type": "markdown",
   "metadata": {},
   "source": [
    "### Aufgabe d)\n",
    "Vergleichen Sie die Resultate aus b) und c) für einen anderen Startvektor $\\lambda^{(0)}=(2,2,2,2)^{T}$"
   ]
  },
  {
   "cell_type": "code",
   "execution_count": 35,
   "metadata": {
    "ExecuteTime": {
     "end_time": "2024-04-08T15:07:13.838118Z",
     "start_time": "2024-04-08T15:07:13.834044Z"
    }
   },
   "outputs": [],
   "source": [
    "lam0_new = np.array([2, 2, 2, 2],dtype=np.float64)\n"
   ]
  },
  {
   "cell_type": "code",
   "execution_count": 38,
   "metadata": {
    "scrolled": true,
    "ExecuteTime": {
     "end_time": "2024-04-08T15:08:49.425068Z",
     "start_time": "2024-04-08T15:08:49.419141Z"
    }
   },
   "outputs": [
    {
     "name": "stdout",
     "output_type": "stream",
     "text": [
      "Iteration:  1\n",
      "lambda =  [-0.30052249  0.97347742  2.37010821  1.3359894 ]\n",
      "Inkrement =  2.631357538873067\n",
      "Fehlerfunktional = 1.476589773754073\n",
      "Iteration:  2\n",
      "lambda =  [ 0.60133027  1.13790001 -0.10031524  3.8259477 ]\n",
      "Inkrement =  3.6253630933677936\n",
      "Fehlerfunktional = 1.6583053367781062\n",
      "Iteration:  3\n",
      "lambda =  [  828.8023408    -95.5527519    150.93861428 -1122.16685165]\n",
      "Inkrement =  1409.2333158237736\n",
      "Fehlerfunktional = inf\n",
      "Iteration:  4\n",
      "lambda =  [ 7.95807864e-13 -9.55527519e+01  1.50938614e+02 -1.12216685e+03]\n",
      "Inkrement =  828.8023407958955\n",
      "Fehlerfunktional = 8.769264975393066e+298\n",
      "Iteration:  5\n",
      "lambda =  [ 8.07793567e-28 -9.55527519e+01  1.50938614e+02 -1.12216685e+03]\n",
      "Inkrement =  7.958079101856617e-13\n",
      "Fehlerfunktional = 9.035402849451738e+268\n"
     ]
    }
   ],
   "source": [
    "# rufen Sie hier das Gauss-Newton Verfahren ohne Dämpfung auf\n",
    "[lam_without,n] = gauss_newton(g, Dg, lam0_new, tol, max_iter)"
   ]
  },
  {
   "cell_type": "code",
   "execution_count": 37,
   "metadata": {
    "scrolled": true,
    "ExecuteTime": {
     "end_time": "2024-04-08T15:07:17.226304Z",
     "start_time": "2024-04-08T15:07:17.212090Z"
    }
   },
   "outputs": [
    {
     "name": "stdout",
     "output_type": "stream",
     "text": [
      "Iteration:  1\n",
      "lambda =  [0.84973875 1.48673871 2.18505411 1.6679947 ]\n",
      "Inkrement =  2.631357538873067\n",
      "Fehlerfunktional = 0.12813271329754403\n",
      "Iteration:  2\n",
      "lambda =  [0.51622071 0.99758326 2.94820682 0.88808392]\n",
      "Inkrement =  2.4828775467032203\n",
      "Fehlerfunktional = 0.09496774575919793\n",
      "Iteration:  3\n",
      "lambda =  [0.7197636  0.71323834 3.14257272 0.43131548]\n",
      "Inkrement =  0.6072044580770103\n",
      "Fehlerfunktional = 0.018979764405643126\n",
      "Iteration:  4\n",
      "lambda =  [0.71554041 0.76252212 3.06743155 0.61215612]\n",
      "Inkrement =  0.2019808391230637\n",
      "Fehlerfunktional = 0.008194118633763691\n",
      "Iteration:  5\n",
      "lambda =  [0.73476802 0.7927067  3.08062645 0.60091132]\n",
      "Inkrement =  0.039766331183686485\n",
      "Fehlerfunktional = 0.007935037650716284\n",
      "Iteration:  6\n",
      "lambda =  [0.73464029 0.79459835 3.07321467 0.60542124]\n",
      "Inkrement =  0.00888079093649082\n",
      "Fehlerfunktional = 0.007927815748250263\n",
      "Iteration:  7\n",
      "lambda =  [0.73544017 0.79623306 3.07509282 0.60378702]\n",
      "Inkrement =  0.0030838568915519293\n",
      "Fehlerfunktional = 0.0079273471303585\n",
      "Iteration:  8\n",
      "lambda =  [0.73529641 0.79609296 3.07432052 0.60432422]\n",
      "Inkrement =  0.0009619360079408086\n",
      "Fehlerfunktional = 0.007927303588079807\n",
      "Iteration:  9\n",
      "lambda =  [0.73537119 0.79622146 3.0745667  0.60413263]\n",
      "Inkrement =  0.00034556641687222354\n",
      "Fehlerfunktional = 0.007927298757423394\n",
      "Iteration:  10\n",
      "lambda =  [0.73534973 0.79619153 3.07447678 0.6041984 ]\n",
      "Inkrement =  0.00011734076227206185\n",
      "Fehlerfunktional = 0.007927298187208191\n",
      "Iteration:  11\n",
      "lambda =  [0.73535805 0.79620471 3.07450731 0.60417532]\n",
      "Inkrement =  4.132822479117654e-05\n",
      "Fehlerfunktional = 0.00792729811857224\n",
      "Iteration:  12\n",
      "lambda =  [0.73535531 0.79620063 3.07449653 0.60418333]\n",
      "Inkrement =  1.4297301242963505e-05\n",
      "Fehlerfunktional = 0.007927298110266273\n",
      "Iteration:  13\n",
      "lambda =  [0.7353563  0.79620215 3.07450026 0.60418053]\n",
      "Inkrement =  4.996159649110851e-06\n",
      "Fehlerfunktional = 0.007927298109259477\n"
     ]
    }
   ],
   "source": [
    "# rufen Sie hier das Gauss-Newton Verfahren mit Dämpfung auf\n",
    "[lam_with_d,n_d] = gauss_newton_d(g, Dg, lam0_new, tol, max_iter, pmax, damping)"
   ]
  },
  {
   "cell_type": "markdown",
   "metadata": {},
   "source": [
    "Man sieht: für diesen neuen Startvektor divergiert das Gauss-Newton Verfahren ohne Dämpfung, während es mit Dämpfung  konvergiert."
   ]
  },
  {
   "cell_type": "markdown",
   "metadata": {},
   "source": [
    "### Aufgabe e)\n",
    "Probieren Sie die Python-Funktion scypy.optimize.fmin() (siehe [Online-Dokumentation](https://docs.scipy.org/doc/scipy/reference/generated/scipy.optimize.fmin.html), indem Sie damit direkt das Minimum des Fehlerfunktionals suchen, und vergleichen Sie mit Ihrer Lösung aus d)."
   ]
  },
  {
   "cell_type": "code",
   "execution_count": 40,
   "metadata": {
    "ExecuteTime": {
     "end_time": "2024-04-08T15:11:55.860729Z",
     "start_time": "2024-04-08T15:11:55.837421Z"
    }
   },
   "outputs": [
    {
     "name": "stdout",
     "output_type": "stream",
     "text": [
      "Optimization terminated successfully.\n",
      "         Current function value: 0.007927\n",
      "         Iterations: 151\n",
      "         Function evaluations: 258\n"
     ]
    },
    {
     "data": {
      "text/plain": "array([0.73534956, 0.79616979, 3.0745151 , 0.6041771 ])"
     },
     "execution_count": 40,
     "metadata": {},
     "output_type": "execute_result"
    }
   ],
   "source": [
    "import scipy.optimize\n",
    "\n",
    "def err_func(x):\n",
    "    return np.linalg.norm(g(x)) ** 2 # fügen Sie den richtigen Rückgabewert ein\n",
    "\n",
    "xopt = scipy.optimize.fmin(err_func, lam0_new)\n",
    "\n",
    "xopt"
   ]
  }
 ],
 "metadata": {
  "kernelspec": {
   "display_name": "Python 3",
   "language": "python",
   "name": "python3"
  },
  "language_info": {
   "codemirror_mode": {
    "name": "ipython",
    "version": 3
   },
   "file_extension": ".py",
   "mimetype": "text/x-python",
   "name": "python",
   "nbconvert_exporter": "python",
   "pygments_lexer": "ipython3",
   "version": "3.8.5"
  }
 },
 "nbformat": 4,
 "nbformat_minor": 2
}
